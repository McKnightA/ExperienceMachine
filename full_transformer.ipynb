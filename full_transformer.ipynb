{
  "nbformat": 4,
  "nbformat_minor": 0,
  "metadata": {
    "colab": {
      "name": "full transformer.ipynb",
      "provenance": [],
      "authorship_tag": "ABX9TyOVRGZxIEY/W4Fxtt4FHAkI",
      "include_colab_link": true
    },
    "kernelspec": {
      "name": "python3",
      "display_name": "Python 3"
    },
    "accelerator": "GPU"
  },
  "cells": [
    {
      "cell_type": "markdown",
      "metadata": {
        "id": "view-in-github",
        "colab_type": "text"
      },
      "source": [
        "<a href=\"https://colab.research.google.com/github/McKnightA/ExperienceMachine/blob/Transformer-Architecture/full_transformer.ipynb\" target=\"_parent\"><img src=\"https://colab.research.google.com/assets/colab-badge.svg\" alt=\"Open In Colab\"/></a>"
      ]
    },
    {
      "cell_type": "markdown",
      "metadata": {
        "id": "uIaIsNUbjU3x"
      },
      "source": [
        "#set up"
      ]
    },
    {
      "cell_type": "code",
      "metadata": {
        "colab": {
          "base_uri": "https://localhost:8080/"
        },
        "id": "EbIgkltei8MG",
        "outputId": "fb9d1868-1151-4c5d-e7fd-a1a0a2967a28"
      },
      "source": [
        "import tensorflow as tf\n",
        "from tensorflow.keras.layers import Attention, Concatenate, Dense, Dropout, Embedding, LayerNormalization\n",
        "print(tf.__version__)\n",
        "import numpy as np\n",
        "import matplotlib.pyplot as plt"
      ],
      "execution_count": null,
      "outputs": [
        {
          "output_type": "stream",
          "text": [
            "2.4.0\n"
          ],
          "name": "stdout"
        }
      ]
    },
    {
      "cell_type": "code",
      "metadata": {
        "colab": {
          "base_uri": "https://localhost:8080/"
        },
        "id": "I0sdtpFMiCvc",
        "outputId": "c5523f03-0d81-4459-81ce-c281334a06b1"
      },
      "source": [
        "from google.colab import drive\n",
        "drive.mount('/content/drive')"
      ],
      "execution_count": null,
      "outputs": [
        {
          "output_type": "stream",
          "text": [
            "Mounted at /content/drive\n"
          ],
          "name": "stdout"
        }
      ]
    },
    {
      "cell_type": "code",
      "metadata": {
        "id": "cl-NcHgH7vPD"
      },
      "source": [
        "#recreation of attention is all you need positional encoding\r\n",
        "def encode_position(data, out=False): #data shape(batch, seq, feat)\r\n",
        "  #data = np.array(data)\r\n",
        "  if out == False:\r\n",
        "    for i in range(data.shape[1]):\r\n",
        "      for j in range(data.shape[2]):\r\n",
        "        data[:,i,j] = data[:,i,j] + tf.math.sin(pow(i/10000, 2*j/data.shape[2]))\r\n",
        "  else:\r\n",
        "    for i in range(data.shape[1]):\r\n",
        "      for j in range(data.shape[2]):\r\n",
        "        data[:,i,j] = data[:,i,j] + tf.math.cos(pow(i/10000, 2*j/data.shape[2]))\r\n",
        "  \r\n",
        "  return data"
      ],
      "execution_count": null,
      "outputs": []
    },
    {
      "cell_type": "code",
      "metadata": {
        "id": "KSt-5HGVEbc7",
        "colab": {
          "base_uri": "https://localhost:8080/"
        },
        "outputId": "30e46a31-d2e1-4538-8ac9-f92ea33845f5"
      },
      "source": [
        "pathData = \"/content/drive/My Drive/Colab Notebooks/BCI/prepedbci/dataTrain.npy\" \n",
        "data = np.load(pathData)\n",
        "\n",
        "pathLabel = \"/content/drive/My Drive/Colab Notebooks/BCI/prepedbci/labelTrain.npy\"\n",
        "label = np.load(pathLabel)\n",
        "\n",
        "pathData = \"/content/drive/My Drive/Colab Notebooks/BCI/prepedbci/dataTest.npy\" \n",
        "valD = np.load(pathData)\n",
        "\n",
        "pathLabel = \"/content/drive/My Drive/Colab Notebooks/BCI/prepedbci/labelTest.npy\"\n",
        "valL = np.load(pathLabel)\n",
        "\n",
        "print(data.shape, label.shape, valD.shape, valL.shape)\n",
        "\n",
        "#print(dataTrain.shape, labelTrain.shape, dataVal.shape, labelVal.shape)"
      ],
      "execution_count": null,
      "outputs": [
        {
          "output_type": "stream",
          "text": [
            "(41780, 256, 22) (41780, 256, 1) (9560, 256, 22) (9560, 256, 1)\n"
          ],
          "name": "stdout"
        }
      ]
    },
    {
      "cell_type": "code",
      "metadata": {
        "id": "hAFK9_-fgOEn"
      },
      "source": [
        "data = [encode_position(data), encode_position(data, out=True)]"
      ],
      "execution_count": null,
      "outputs": []
    },
    {
      "cell_type": "code",
      "metadata": {
        "id": "KIfXfnk7gRO9"
      },
      "source": [
        "valD = [encode_position(valD), encode_position(valD, out=True)]"
      ],
      "execution_count": null,
      "outputs": []
    },
    {
      "cell_type": "code",
      "metadata": {
        "id": "b46gkIYMmzow"
      },
      "source": [
        "#print(data.shape)"
      ],
      "execution_count": null,
      "outputs": []
    },
    {
      "cell_type": "code",
      "metadata": {
        "id": "6eu1jIKuiQIf"
      },
      "source": [
        "Generations = 16\n",
        "BatchSize = 64\n",
        "SequenceLength = 256\n",
        "#Stride = 23\n",
        "Features = 22\n",
        "ffDim = 1024\n",
        "nHeads = 4\n",
        "nEncoders = 3\n",
        "dModel = 256\n",
        "dK = int(dModel/nHeads)\n",
        "dV = int(dModel/nHeads)\n"
      ],
      "execution_count": null,
      "outputs": []
    },
    {
      "cell_type": "markdown",
      "metadata": {
        "id": "erGhOJE1jShY"
      },
      "source": [
        "#functions"
      ]
    },
    {
      "cell_type": "code",
      "metadata": {
        "id": "I0R-U3T8VO2a"
      },
      "source": [
        "def make_binary_confusion_matrix(truth, prediction): #assuming shape(none, seqlen, 1) to start\r\n",
        "  tp = 0\r\n",
        "  fp = 0\r\n",
        "  tn = 0\r\n",
        "  fn = 0\r\n",
        "  if truth.shape == prediction.shape:\r\n",
        "    for i in range(truth.shape[0]):\r\n",
        "      for j in range(truth.shape[1]):\r\n",
        "        if truth[i,j,0] == 1 and prediction[i,j,0] >= .5:\r\n",
        "          tp += 1\r\n",
        "        elif truth[i,j,0] == 0 and prediction[i,j,0] >= .5:\r\n",
        "          fp += 1\r\n",
        "        elif truth[i,j,0] == 0 and prediction[i,j,0] < .5:\r\n",
        "          tn += 1\r\n",
        "        elif truth[i,j,0] == 1 and prediction[i,j,0] < .5:\r\n",
        "          fn += 1\r\n",
        "    if tp+fp+tn+fn == truth.shape[0]*truth.shape[1]*truth.shape[2]:\r\n",
        "      print(\"all acounted for\")\r\n",
        "      print(\"in the table: \", tp+fp+tn+fn)\r\n",
        "      print(\"in existence: \", truth.shape[0]*truth.shape[1]*truth.shape[2])\r\n",
        "\r\n",
        "  else:\r\n",
        "    print(\"you fucked up. truth and perdictions aren't the same shape\")\r\n",
        "  \r\n",
        "  print(\"-------------------------\")\r\n",
        "  print(\"-------pred Y----pred N--\")\r\n",
        "  print(\"true Y | \", tp, \" | \", fn)\r\n",
        "  print(\"true N | \", fp, \" | \", tn)\r\n",
        "  print(\"-------------------------\")"
      ],
      "execution_count": null,
      "outputs": []
    },
    {
      "cell_type": "code",
      "metadata": {
        "id": "UtDHDiUeqfVO"
      },
      "source": [
        "def visualize(truth, pred, check_length = 10):\n",
        "  fig, axs = plt.subplots(1,check_length)\n",
        "  fig.suptitle('experiment results')\n",
        "  x=range(SequenceLength)\n",
        "  for i in range(check_length):\n",
        "    axs[i].plot(x, truth[i,:], label=\"T signal label\")\n",
        "    axs[i].plot(x, pred[i,:], label=\"T signal prediction\")\n",
        "  "
      ],
      "execution_count": null,
      "outputs": []
    },
    {
      "cell_type": "code",
      "metadata": {
        "id": "s6wf8GjCHh4Q"
      },
      "source": [
        "def multihead_attention(input, d_k, d_v, n_heads, mask=False): #input =[q,k,v]\r\n",
        "  heads=[]\r\n",
        "  for i in range(n_heads): \r\n",
        "    q = Dense(d_k, bias_initializer='glorot_uniform')(input[0])\r\n",
        "    k = Dense(d_k, bias_initializer='glorot_uniform')(input[1])\r\n",
        "    v = Dense(d_v, bias_initializer='glorot_uniform')(input[2])\r\n",
        "    heads.append(Attention(use_scale=True, causal=mask)([q,k,v]))\r\n",
        "  \r\n",
        "  return Dense(input[0].shape[-1], bias_initializer='glorot_uniform')(Concatenate(axis=-1)(heads)) "
      ],
      "execution_count": null,
      "outputs": []
    },
    {
      "cell_type": "code",
      "metadata": {
        "id": "-dc9DNNlWm7c"
      },
      "source": [
        "def build_transformer_decoder_block(input, encoder_out, d_k, d_v, n_heads, ff_dim, dropout=0.1): #input = (none, seqlen, feat)\r\n",
        "  \r\n",
        "  sub1 = multihead_attention([input, input, input], d_k, d_v, n_heads, mask=True)\r\n",
        "  sub1 = Dropout(dropout)(sub1) \r\n",
        "  sub1 = LayerNormalization()(input + sub1) #residual connection\r\n",
        "  \r\n",
        "  sub2 = multihead_attention([encoder_out, encoder_out, sub1], d_k, d_v, n_heads)\r\n",
        "  sub2 = Dropout(dropout)(sub2) \r\n",
        "  sub2 = LayerNormalization()(sub1 + sub2) #residual connection\r\n",
        "\r\n",
        "  sub3 = Dense(ff_dim, activation='relu')(sub2)\r\n",
        "  sub3 = Dropout(dropout)(sub3) \r\n",
        "  sub3 = Dense(input.shape[-1])(sub3)\r\n",
        "  \r\n",
        "  return LayerNormalization()(sub2 + sub3) #residual connection"
      ],
      "execution_count": null,
      "outputs": []
    },
    {
      "cell_type": "code",
      "metadata": {
        "id": "FOEfIW4BkN_8"
      },
      "source": [
        "def build_transformer_encoder_block(input, d_k, d_v, n_heads, ff_dim, dropout=0.1): #input = (in_seq, in_seq, in_seq)\r\n",
        "  \r\n",
        "  sub1 = multihead_attention(input, d_k, d_v, n_heads)\r\n",
        "  sub1 = Dropout(dropout)(sub1)\r\n",
        "  sub1 = LayerNormalization()(input[0] + sub1) #residual connection\r\n",
        "\r\n",
        "  sub2 = Dense(ff_dim, activation='relu')(sub1)\r\n",
        "  sub2 = Dropout(dropout)(sub2) \r\n",
        "  sub2 = Dense(input[0].shape[-1])(sub2)\r\n",
        "  return LayerNormalization()(sub1 + sub2) #residual connection"
      ],
      "execution_count": null,
      "outputs": []
    },
    {
      "cell_type": "code",
      "metadata": {
        "id": "V709aXzz4jFb"
      },
      "source": [
        "def build_transformer_model_1(dropout=0.1):\r\n",
        "\r\n",
        "  encode_input = tf.keras.Input(shape=(SequenceLength, Features))\r\n",
        "  x = Dropout(dropout)(encode_input)\r\n",
        "  for i in range(nEncoders):\r\n",
        "    x = build_transformer_encoder_block([x,x,x], dK, dV, nHeads, ffDim)\r\n",
        "  \r\n",
        "  decode_input = tf.keras.Input(shape=(SequenceLength, Features))\r\n",
        "  y = Dropout(dropout)(decode_input)\r\n",
        "  for i in range(nEncoders):\r\n",
        "    y = build_transformer_decoder_block(y, x, dK, dV, nHeads, ffDim)\r\n",
        "\r\n",
        "  z = Dense(ffDim)(y)\r\n",
        "  out = Dense(1, activation='sigmoid')(z)\r\n",
        "\r\n",
        "  model = tf.keras.Model(inputs=[encode_input, decode_input], outputs=out)\r\n",
        "  #tf.keras.utils.plot_model(model, \"transformer_1.png\", show_shapes=True)\r\n",
        "  model.compile(optimizer='Nadam', loss=tf.keras.losses.BinaryCrossentropy(label_smoothing=.1), metrics=[tf.keras.metrics.Precision(), tf.keras.metrics.Recall()])\r\n",
        "\r\n",
        "  return model"
      ],
      "execution_count": null,
      "outputs": []
    },
    {
      "cell_type": "code",
      "metadata": {
        "id": "uDLrPyzC2h-K"
      },
      "source": [
        "def build_transformer_model_2(dropout=0.1):\r\n",
        "  encode_input = tf.keras.Input(shape=(SequenceLength, Features))\r\n",
        "  decode_input = tf.keras.Input(shape=(SequenceLength, Features))\r\n",
        "\r\n",
        "  x = Dropout(dropout)(encode_input)\r\n",
        "  y = Dropout(dropout)(decode_input)\r\n",
        "  for i in range(nEncoders):\r\n",
        "    x = build_transformer_encoder_block([x,x,x], dK, dV, nHeads, ffDim)\r\n",
        "    y = build_transformer_decoder_block(y, x, dK, dV, nHeads, ffDim)\r\n",
        "\r\n",
        "  z = Dense(ffDim)(y)\r\n",
        "  out = Dense(1, activation='sigmoid')(z)\r\n",
        "\r\n",
        "  model = tf.keras.Model(inputs=[encode_input, decode_input], outputs=out)\r\n",
        "  #model.summary()\r\n",
        "  model.compile(optimizer='Nadam', loss=tf.keras.losses.BinaryCrossentropy(label_smoothing=.1), metrics=[tf.keras.metrics.Precision(), tf.keras.metrics.Recall()])\r\n",
        "\r\n",
        "  return model"
      ],
      "execution_count": null,
      "outputs": []
    },
    {
      "cell_type": "markdown",
      "metadata": {
        "id": "eo1FK4eDjazk"
      },
      "source": [
        "#run it"
      ]
    },
    {
      "cell_type": "code",
      "metadata": {
        "id": "HAdZ8_68iKcp",
        "colab": {
          "base_uri": "https://localhost:8080/",
          "height": 987
        },
        "outputId": "8451f2d6-e2bd-433c-869e-719331d88af4"
      },
      "source": [
        "model1 = build_transformer_model_1()\n",
        "\n",
        "model1.fit(data, label, batch_size=BatchSize,\n",
        "                   epochs=Generations, validation_data = (valD, valL),\n",
        "                   verbose=2, shuffle=True)\n",
        "\n",
        "\n",
        "\n",
        "prediction1 = model1.predict(valD)\n",
        "make_binary_confusion_matrix(valL, prediction1)\n",
        "visualize(valL, prediction1)"
      ],
      "execution_count": null,
      "outputs": [
        {
          "output_type": "stream",
          "text": [
            "Epoch 1/16\n",
            "653/653 - 223s - loss: 0.6684 - precision: 0.3881 - recall: 0.0022 - val_loss: 0.6673 - val_precision: 0.0000e+00 - val_recall: 0.0000e+00\n",
            "Epoch 2/16\n",
            "653/653 - 183s - loss: 0.6670 - precision: 0.0000e+00 - recall: 0.0000e+00 - val_loss: 0.6670 - val_precision: 0.0000e+00 - val_recall: 0.0000e+00\n",
            "Epoch 3/16\n",
            "653/653 - 183s - loss: 0.6666 - precision: 0.0000e+00 - recall: 0.0000e+00 - val_loss: 0.6667 - val_precision: 0.0000e+00 - val_recall: 0.0000e+00\n",
            "Epoch 4/16\n",
            "653/653 - 182s - loss: 0.6665 - precision: 0.3391 - recall: 2.7963e-04 - val_loss: 0.6666 - val_precision: 0.0000e+00 - val_recall: 0.0000e+00\n",
            "Epoch 5/16\n",
            "653/653 - 183s - loss: 0.6664 - precision: 0.0000e+00 - recall: 0.0000e+00 - val_loss: 0.6670 - val_precision: 0.0000e+00 - val_recall: 0.0000e+00\n",
            "Epoch 6/16\n",
            "653/653 - 183s - loss: 0.6663 - precision: 0.0000e+00 - recall: 0.0000e+00 - val_loss: 0.6673 - val_precision: 0.0000e+00 - val_recall: 0.0000e+00\n",
            "Epoch 7/16\n",
            "653/653 - 183s - loss: 0.6663 - precision: 0.0000e+00 - recall: 0.0000e+00 - val_loss: 0.6666 - val_precision: 0.0000e+00 - val_recall: 0.0000e+00\n",
            "Epoch 8/16\n",
            "653/653 - 183s - loss: 0.6663 - precision: 0.0000e+00 - recall: 0.0000e+00 - val_loss: 0.6667 - val_precision: 0.0000e+00 - val_recall: 0.0000e+00\n",
            "Epoch 9/16\n",
            "653/653 - 183s - loss: 0.6663 - precision: 0.0000e+00 - recall: 0.0000e+00 - val_loss: 0.6667 - val_precision: 0.0000e+00 - val_recall: 0.0000e+00\n",
            "Epoch 10/16\n",
            "653/653 - 182s - loss: 0.6663 - precision: 0.0000e+00 - recall: 0.0000e+00 - val_loss: 0.6670 - val_precision: 0.0000e+00 - val_recall: 0.0000e+00\n",
            "Epoch 11/16\n",
            "653/653 - 183s - loss: 0.6663 - precision: 0.0000e+00 - recall: 0.0000e+00 - val_loss: 0.6666 - val_precision: 0.0000e+00 - val_recall: 0.0000e+00\n",
            "Epoch 12/16\n",
            "653/653 - 182s - loss: 0.6662 - precision: 0.0000e+00 - recall: 0.0000e+00 - val_loss: 0.6667 - val_precision: 0.0000e+00 - val_recall: 0.0000e+00\n",
            "Epoch 13/16\n",
            "653/653 - 183s - loss: 0.6663 - precision: 0.0000e+00 - recall: 0.0000e+00 - val_loss: 0.6666 - val_precision: 0.0000e+00 - val_recall: 0.0000e+00\n",
            "Epoch 14/16\n",
            "653/653 - 182s - loss: 0.6662 - precision: 0.0000e+00 - recall: 0.0000e+00 - val_loss: 0.6667 - val_precision: 0.0000e+00 - val_recall: 0.0000e+00\n",
            "Epoch 15/16\n",
            "653/653 - 182s - loss: 0.6662 - precision: 0.0000e+00 - recall: 0.0000e+00 - val_loss: 0.6666 - val_precision: 0.0000e+00 - val_recall: 0.0000e+00\n",
            "Epoch 16/16\n",
            "653/653 - 182s - loss: 0.6662 - precision: 0.0000e+00 - recall: 0.0000e+00 - val_loss: 0.6670 - val_precision: 0.0000e+00 - val_recall: 0.0000e+00\n",
            "all acounted for\n",
            "in the table:  2447360\n",
            "in existence:  2447360\n",
            "-------------------------\n",
            "-------pred Y----pred N--\n",
            "true Y |  0  |  912000\n",
            "true N |  0  |  1535360\n",
            "-------------------------\n"
          ],
          "name": "stdout"
        },
        {
          "output_type": "display_data",
          "data": {
            "image/png": "[encoded data removed]",
            "text/plain": [
              "<Figure size 432x288 with 10 Axes>"
            ]
          },
          "metadata": {
            "tags": [],
            "needs_background": "light"
          }
        }
      ]
    },
    {
      "cell_type": "code",
      "metadata": {
        "colab": {
          "base_uri": "https://localhost:8080/",
          "height": 1000
        },
        "id": "D7buRz1Vzv8n",
        "outputId": "c6076c75-3ec9-4003-8f54-14d941c7aa99"
      },
      "source": [
        "del model1\r\n",
        "model2 = build_transformer_model_2()\r\n",
        "\r\n",
        "model2.fit(data, label, batch_size=BatchSize,\r\n",
        "                   epochs=Generations, validation_data = (valD, valL),\r\n",
        "                   verbose=2, shuffle=True)\r\n",
        "\r\n",
        "prediction2 = model2.predict(valD)\r\n",
        "make_binary_confusion_matrix(valL, prediction2)\r\n",
        "visualize(valL, prediction2)"
      ],
      "execution_count": null,
      "outputs": [
        {
          "output_type": "stream",
          "text": [
            "Epoch 1/16\n",
            "653/653 - 215s - loss: 0.6683 - precision_1: 0.3492 - recall_1: 0.0026 - val_loss: 0.6708 - val_precision_1: 0.0000e+00 - val_recall_1: 0.0000e+00\n",
            "Epoch 2/16\n",
            "653/653 - 181s - loss: 0.6669 - precision_1: 0.0000e+00 - recall_1: 0.0000e+00 - val_loss: 0.6668 - val_precision_1: 0.0000e+00 - val_recall_1: 0.0000e+00\n",
            "Epoch 3/16\n",
            "653/653 - 181s - loss: 0.6666 - precision_1: 0.0000e+00 - recall_1: 0.0000e+00 - val_loss: 0.6667 - val_precision_1: 0.0000e+00 - val_recall_1: 0.0000e+00\n",
            "Epoch 4/16\n",
            "653/653 - 181s - loss: 0.6664 - precision_1: 0.0000e+00 - recall_1: 0.0000e+00 - val_loss: 0.6666 - val_precision_1: 0.0000e+00 - val_recall_1: 0.0000e+00\n",
            "Epoch 5/16\n",
            "653/653 - 181s - loss: 0.6664 - precision_1: 0.0000e+00 - recall_1: 0.0000e+00 - val_loss: 0.6669 - val_precision_1: 0.0000e+00 - val_recall_1: 0.0000e+00\n",
            "Epoch 6/16\n",
            "653/653 - 181s - loss: 0.6663 - precision_1: 0.0000e+00 - recall_1: 0.0000e+00 - val_loss: 0.6667 - val_precision_1: 0.0000e+00 - val_recall_1: 0.0000e+00\n",
            "Epoch 7/16\n",
            "653/653 - 181s - loss: 0.6663 - precision_1: 0.0000e+00 - recall_1: 0.0000e+00 - val_loss: 0.6666 - val_precision_1: 0.0000e+00 - val_recall_1: 0.0000e+00\n",
            "Epoch 8/16\n",
            "653/653 - 182s - loss: 0.6663 - precision_1: 0.0000e+00 - recall_1: 0.0000e+00 - val_loss: 0.6666 - val_precision_1: 0.0000e+00 - val_recall_1: 0.0000e+00\n",
            "Epoch 9/16\n",
            "653/653 - 182s - loss: 0.6665 - precision_1: 0.3622 - recall_1: 0.0013 - val_loss: 0.6668 - val_precision_1: 0.0000e+00 - val_recall_1: 0.0000e+00\n",
            "Epoch 10/16\n",
            "653/653 - 181s - loss: 0.6663 - precision_1: 0.0000e+00 - recall_1: 0.0000e+00 - val_loss: 0.6667 - val_precision_1: 0.0000e+00 - val_recall_1: 0.0000e+00\n",
            "Epoch 11/16\n",
            "653/653 - 181s - loss: 0.6663 - precision_1: 0.0000e+00 - recall_1: 0.0000e+00 - val_loss: 0.6666 - val_precision_1: 0.0000e+00 - val_recall_1: 0.0000e+00\n",
            "Epoch 12/16\n",
            "653/653 - 181s - loss: 0.6663 - precision_1: 0.0000e+00 - recall_1: 0.0000e+00 - val_loss: 0.6666 - val_precision_1: 0.0000e+00 - val_recall_1: 0.0000e+00\n",
            "Epoch 13/16\n",
            "653/653 - 181s - loss: 0.6662 - precision_1: 0.0000e+00 - recall_1: 0.0000e+00 - val_loss: 0.6667 - val_precision_1: 0.0000e+00 - val_recall_1: 0.0000e+00\n",
            "Epoch 14/16\n",
            "653/653 - 181s - loss: 0.6662 - precision_1: 0.0000e+00 - recall_1: 0.0000e+00 - val_loss: 0.6668 - val_precision_1: 0.0000e+00 - val_recall_1: 0.0000e+00\n",
            "Epoch 15/16\n",
            "653/653 - 181s - loss: 0.6663 - precision_1: 0.0000e+00 - recall_1: 0.0000e+00 - val_loss: 0.6668 - val_precision_1: 0.0000e+00 - val_recall_1: 0.0000e+00\n",
            "Epoch 16/16\n",
            "653/653 - 181s - loss: 0.6662 - precision_1: 0.0000e+00 - recall_1: 0.0000e+00 - val_loss: 0.6667 - val_precision_1: 0.0000e+00 - val_recall_1: 0.0000e+00\n",
            "all acounted for\n",
            "in the table:  2447360\n",
            "in existence:  2447360\n",
            "-------------------------\n",
            "-------pred Y----pred N--\n",
            "true Y |  0  |  912000\n",
            "true N |  0  |  1535360\n",
            "-------------------------\n"
          ],
          "name": "stdout"
        },
        {
          "output_type": "display_data",
          "data": {
            "image/png": "[encoded data removed]",
            "text/plain": [
              "<Figure size 432x288 with 10 Axes>"
            ]
          },
          "metadata": {
            "tags": [],
            "needs_background": "light"
          }
        }
      ]
    },
    {
      "cell_type": "markdown",
      "metadata": {
        "id": "v8X4pQ6Hi-pT"
      },
      "source": [
        "#unnecessary"
      ]
    }
  ]
}