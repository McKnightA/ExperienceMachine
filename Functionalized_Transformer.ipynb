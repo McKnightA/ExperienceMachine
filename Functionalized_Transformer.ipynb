{
  "nbformat": 4,
  "nbformat_minor": 0,
  "metadata": {
    "colab": {
      "name": "Functionalized Transformer.ipynb",
      "provenance": [],
      "authorship_tag": "ABX9TyOUYk5aAnj1Holpjb6nPdLt",
      "include_colab_link": true
    },
    "kernelspec": {
      "name": "python3",
      "display_name": "Python 3"
    },
    "accelerator": "GPU"
  },
  "cells": [
    {
      "cell_type": "markdown",
      "metadata": {
        "id": "view-in-github",
        "colab_type": "text"
      },
      "source": [
        "<a href=\"https://colab.research.google.com/github/McKnightA/ExperienceMachine/blob/Transformer-Architecture/Functionalized_Transformer.ipynb\" target=\"_parent\"><img src=\"https://colab.research.google.com/assets/colab-badge.svg\" alt=\"Open In Colab\"/></a>"
      ]
    },
    {
      "cell_type": "markdown",
      "metadata": {
        "id": "NVOKkL4IylYu"
      },
      "source": [
        "#Transformer Exploration"
      ]
    },
    {
      "cell_type": "markdown",
      "metadata": {
        "id": "gTXANrO7h7hP"
      },
      "source": [
        "based off https://github.com/JanSchm/CapMarket/blob/master/bot_experiments/IBM_Transformer%2BTimeEmbedding.ipynb\n",
        "and\n",
        "Attention Is All You Need https://arxiv.org/pdf/1706.03762.pdf"
      ]
    },
    {
      "cell_type": "code",
      "metadata": {
        "id": "lcM9jn4EDkbo",
        "colab": {
          "base_uri": "https://localhost:8080/"
        },
        "outputId": "70ea284c-4bf8-45b8-cc7d-65b2ce79dab0"
      },
      "source": [
        "import tensorflow as tf\n",
        "from tensorflow.keras.layers import Attention, Concatenate, Dense, Dropout, Embedding, LayerNormalization\n",
        "print(tf.__version__)\n",
        "import numpy as np\n",
        "import pandas as pd\n",
        "import matplotlib.pyplot as plt\n",
        "!pip install wandb\n",
        "import wandb\n",
        "from wandb.keras import WandbCallback"
      ],
      "execution_count": null,
      "outputs": [
        {
          "output_type": "stream",
          "text": [
            "2.4.0\n",
            "Requirement already satisfied: wandb in /usr/local/lib/python3.6/dist-packages (0.10.14)\n",
            "Requirement already satisfied: requests<3,>=2.0.0 in /usr/local/lib/python3.6/dist-packages (from wandb) (2.23.0)\n",
            "Requirement already satisfied: PyYAML in /usr/local/lib/python3.6/dist-packages (from wandb) (3.13)\n",
            "Requirement already satisfied: watchdog<0.10.5,>=0.8.3 in /usr/local/lib/python3.6/dist-packages (from wandb) (0.10.4)\n",
            "Requirement already satisfied: docker-pycreds>=0.4.0 in /usr/local/lib/python3.6/dist-packages (from wandb) (0.4.0)\n",
            "Requirement already satisfied: shortuuid>=0.5.0 in /usr/local/lib/python3.6/dist-packages (from wandb) (1.0.1)\n",
            "Requirement already satisfied: protobuf>=3.12.0 in /usr/local/lib/python3.6/dist-packages (from wandb) (3.12.4)\n",
            "Requirement already satisfied: GitPython>=1.0.0 in /usr/local/lib/python3.6/dist-packages (from wandb) (3.1.12)\n",
            "Requirement already satisfied: subprocess32>=3.5.3 in /usr/local/lib/python3.6/dist-packages (from wandb) (3.5.4)\n",
            "Requirement already satisfied: psutil>=5.0.0 in /usr/local/lib/python3.6/dist-packages (from wandb) (5.4.8)\n",
            "Requirement already satisfied: Click>=7.0 in /usr/local/lib/python3.6/dist-packages (from wandb) (7.1.2)\n",
            "Requirement already satisfied: six>=1.13.0 in /usr/local/lib/python3.6/dist-packages (from wandb) (1.15.0)\n",
            "Requirement already satisfied: python-dateutil>=2.6.1 in /usr/local/lib/python3.6/dist-packages (from wandb) (2.8.1)\n",
            "Requirement already satisfied: sentry-sdk>=0.4.0 in /usr/local/lib/python3.6/dist-packages (from wandb) (0.19.5)\n",
            "Requirement already satisfied: configparser>=3.8.1 in /usr/local/lib/python3.6/dist-packages (from wandb) (5.0.1)\n",
            "Requirement already satisfied: promise<3,>=2.0 in /usr/local/lib/python3.6/dist-packages (from wandb) (2.3)\n",
            "Requirement already satisfied: chardet<4,>=3.0.2 in /usr/local/lib/python3.6/dist-packages (from requests<3,>=2.0.0->wandb) (3.0.4)\n",
            "Requirement already satisfied: certifi>=2017.4.17 in /usr/local/lib/python3.6/dist-packages (from requests<3,>=2.0.0->wandb) (2020.12.5)\n",
            "Requirement already satisfied: urllib3!=1.25.0,!=1.25.1,<1.26,>=1.21.1 in /usr/local/lib/python3.6/dist-packages (from requests<3,>=2.0.0->wandb) (1.24.3)\n",
            "Requirement already satisfied: idna<3,>=2.5 in /usr/local/lib/python3.6/dist-packages (from requests<3,>=2.0.0->wandb) (2.10)\n",
            "Requirement already satisfied: pathtools>=0.1.1 in /usr/local/lib/python3.6/dist-packages (from watchdog<0.10.5,>=0.8.3->wandb) (0.1.2)\n",
            "Requirement already satisfied: setuptools in /usr/local/lib/python3.6/dist-packages (from protobuf>=3.12.0->wandb) (51.3.3)\n",
            "Requirement already satisfied: gitdb<5,>=4.0.1 in /usr/local/lib/python3.6/dist-packages (from GitPython>=1.0.0->wandb) (4.0.5)\n",
            "Requirement already satisfied: smmap<4,>=3.0.1 in /usr/local/lib/python3.6/dist-packages (from gitdb<5,>=4.0.1->GitPython>=1.0.0->wandb) (3.0.4)\n"
          ],
          "name": "stdout"
        }
      ]
    },
    {
      "cell_type": "code",
      "metadata": {
        "colab": {
          "base_uri": "https://localhost:8080/",
          "height": 602
        },
        "id": "Gj81iRkz7PHX",
        "outputId": "13e2d93d-7a5a-43a3-9cfe-ccaa07d7f936"
      },
      "source": [
        "experimentNumber = 13\r\n",
        "note = \"setting encoders to 6, setting heads to 6\"\r\n",
        "wandb.init(name=\"transformerEncoderTry{}\".format(experimentNumber), notes=note, project=\"Experience Machine\", group=\"Transformer Encoder\")"
      ],
      "execution_count": null,
      "outputs": [
        {
          "output_type": "stream",
          "text": [
            "\u001b[34m\u001b[1mwandb\u001b[0m: Currently logged in as: \u001b[33mmcniz\u001b[0m (use `wandb login --relogin` to force relogin)\n"
          ],
          "name": "stderr"
        },
        {
          "output_type": "display_data",
          "data": {
            "text/html": [
              "\n",
              "                Tracking run with wandb version 0.10.14<br/>\n",
              "                Syncing run <strong style=\"color:#cdcd00\">transformerEncoderTry13</strong> to <a href=\"https://wandb.ai\" target=\"_blank\">Weights & Biases</a> <a href=\"https://docs.wandb.com/integrations/jupyter.html\" target=\"_blank\">(Documentation)</a>.<br/>\n",
              "                Project page: <a href=\"https://wandb.ai/mcniz/Experience%20Machine\" target=\"_blank\">https://wandb.ai/mcniz/Experience%20Machine</a><br/>\n",
              "                Run page: <a href=\"https://wandb.ai/mcniz/Experience%20Machine/runs/f92dkppc\" target=\"_blank\">https://wandb.ai/mcniz/Experience%20Machine/runs/f92dkppc</a><br/>\n",
              "                Run data is saved locally in <code>/content/wandb/run-20210122_203932-f92dkppc</code><br/><br/>\n",
              "            "
            ],
            "text/plain": [
              "<IPython.core.display.HTML object>"
            ]
          },
          "metadata": {
            "tags": []
          }
        },
        {
          "output_type": "execute_result",
          "data": {
            "text/plain": [
              "<wandb.sdk.wandb_run.Run at 0x7fb300b64470>"
            ],
            "text/html": [
              "<h1>Run(f92dkppc)</h1><p></p><iframe src=\"https://wandb.ai/mcniz/Experience%20Machine/runs/f92dkppc\" style=\"border:none;width:100%;height:400px\"></iframe>"
            ]
          },
          "metadata": {
            "tags": []
          },
          "execution_count": 2
        }
      ]
    },
    {
      "cell_type": "markdown",
      "metadata": {
        "id": "fcn3dFsUAJpA"
      },
      "source": [
        "#Time Functions"
      ]
    },
    {
      "cell_type": "markdown",
      "metadata": {
        "id": "M0bt5l4GAT1k"
      },
      "source": [
        "good"
      ]
    },
    {
      "cell_type": "code",
      "metadata": {
        "id": "YTNCM0ZXGkWX"
      },
      "source": [
        "#recreation of attention is all you need positional encoding\n",
        "def encode_position(data): #data shape(batch, seq, feat)\n",
        "  for i in range(data.shape[1]):\n",
        "    for j in range(data.shape[2]):\n",
        "      data[:,i,j] = data[:,i,j] + tf.math.sin(pow(i/10000, 2*j/data.shape[2]))\n",
        "  \n",
        "  return data"
      ],
      "execution_count": null,
      "outputs": []
    },
    {
      "cell_type": "markdown",
      "metadata": {
        "id": "OZgvDCRiAVYG"
      },
      "source": [
        "meh"
      ]
    },
    {
      "cell_type": "code",
      "metadata": {
        "id": "9iKemtCDGVo_",
        "colab": {
          "base_uri": "https://localhost:8080/"
        },
        "outputId": "fb89f222-1a81-4268-f592-66b914161bf2"
      },
      "source": [
        "'''\n",
        "#recreation of linear periodic method\n",
        "def time2vec(data): #data comes in form of (batch, seq, feat)\n",
        "  x = tf.math.reduce_mean(data, axis=-1) #from (batch, seq, feat) to (batch, seq)\n",
        "  \n",
        "  time_linear = []\n",
        "  for i in range(x.shape[1]):\n",
        "    time_linear.append(x[:,i] * i)\n",
        "  time_linear = tf.expand_dims(time_linear, axis = -1) #from (batch, seq) to (batch, seq, 1)\n",
        "  \n",
        "\n",
        "  time_periodic = tf.math.sin(x)\n",
        "  time_periodic = tf.expand_dims(time_periodic, axis = -1) #from (batch, seq) to (batch, seq, 1)\n",
        "  return Concatenate(axis=-1)([data, time_periodic]) \n",
        "  '''"
      ],
      "execution_count": null,
      "outputs": [
        {
          "output_type": "execute_result",
          "data": {
            "application/vnd.google.colaboratory.intrinsic+json": {
              "type": "string"
            },
            "text/plain": [
              "'\\n#recreation of linear periodic method\\ndef time2vec(data): #data comes in form of (batch, seq, feat)\\n  x = tf.math.reduce_mean(data, axis=-1) #from (batch, seq, feat) to (batch, seq)\\n  \\n  time_linear = []\\n  for i in range(x.shape[1]):\\n    time_linear.append(x[:,i] * i)\\n  time_linear = tf.expand_dims(time_linear, axis = -1) #from (batch, seq) to (batch, seq, 1)\\n  \\n\\n  time_periodic = tf.math.sin(x)\\n  time_periodic = tf.expand_dims(time_periodic, axis = -1) #from (batch, seq) to (batch, seq, 1)\\n  return Concatenate(axis=-1)([data, time_periodic]) \\n  '"
            ]
          },
          "metadata": {
            "tags": []
          },
          "execution_count": 4
        }
      ]
    },
    {
      "cell_type": "code",
      "metadata": {
        "id": "81DL2atI0WDN",
        "colab": {
          "base_uri": "https://localhost:8080/"
        },
        "outputId": "f1259ee1-9a8a-40cf-8448-cd9a74456e09"
      },
      "source": [
        "'''\r\n",
        "#another interpretation of attention is all you need positional encoding\r\n",
        "def encode_position2(data): #data shape(batch, seq, feat)\r\n",
        "  kth = []\r\n",
        "  for k in range(data.shape[0]):\r\n",
        "    ith = []\r\n",
        "    for i in range(data.shape[1]):\r\n",
        "      jth = []\r\n",
        "      for j in range(data.shape[2]):\r\n",
        "        jth.append(tf.math.sin(pow(i/10000, 2*j/data.shape[2])))\r\n",
        "      ith.append(jth)\r\n",
        "    kth.append(ith)\r\n",
        "  \r\n",
        "  return Concatenate(axis=-1)([data, kth]) \r\n",
        "  '''"
      ],
      "execution_count": null,
      "outputs": [
        {
          "output_type": "execute_result",
          "data": {
            "application/vnd.google.colaboratory.intrinsic+json": {
              "type": "string"
            },
            "text/plain": [
              "'\\n#another interpretation of attention is all you need positional encoding\\ndef encode_position2(data): #data shape(batch, seq, feat)\\n  kth = []\\n  for k in range(data.shape[0]):\\n    ith = []\\n    for i in range(data.shape[1]):\\n      jth = []\\n      for j in range(data.shape[2]):\\n        jth.append(tf.math.sin(pow(i/10000, 2*j/data.shape[2])))\\n      ith.append(jth)\\n    kth.append(ith)\\n  \\n  return Concatenate(axis=-1)([data, kth]) \\n  '"
            ]
          },
          "metadata": {
            "tags": []
          },
          "execution_count": 5
        }
      ]
    },
    {
      "cell_type": "markdown",
      "metadata": {
        "id": "sCe4dBKVDkA0"
      },
      "source": [
        "#Transformer Functions"
      ]
    },
    {
      "cell_type": "code",
      "metadata": {
        "id": "G25DKcCmmUTg"
      },
      "source": [
        "def pay_attention(input, d_k, d_v): #inputs = (in_seq, in_seq, in_seq)\n",
        "  #base process\n",
        "  q = Dense(d_k, bias_initializer='glorot_uniform')(input[0])\n",
        "  k = Dense(d_k, bias_initializer='glorot_uniform')(input[1])\n",
        "  v = Dense(d_v, bias_initializer='glorot_uniform')(input[2])\n",
        "\n",
        "  return Attention(use_scale=True)([q,k,v]) #expects q.shape(batch, Tq, dim), I may just say we're fine here..."
      ],
      "execution_count": null,
      "outputs": []
    },
    {
      "cell_type": "code",
      "metadata": {
        "id": "7TCwO5Sis220"
      },
      "source": [
        "def build_attention_encoder(input, d_k, d_v, n_heads, ff_dim, dropout=0.1): #input = (in_seq, in_seq, in_seq)\n",
        "  #parallel process\n",
        "\n",
        "  heads=[]#multiheaded attention start\n",
        "  for i in range(n_heads): \n",
        "    heads.append(pay_attention(input, d_k, d_v))\n",
        "  \n",
        "  sub1 = Concatenate(axis=-1)(heads)\n",
        "  sub1 = Dense(input[0].shape[-1], bias_initializer='glorot_uniform')(sub1) #multiheaded attention end\n",
        "  sub1 = Dropout(dropout)(sub1) #original paper makes no mention of this layer\n",
        "  sub1 = LayerNormalization()(input[0] + sub1) #residual connection\n",
        "\n",
        "  sub2 = Dense(ff_dim, activation='relu')(sub1)\n",
        "  sub2 = Dropout(dropout)(sub2) #original paper makes no mention of this layer\n",
        "  sub2 = Dense(input[0].shape[-1])(sub2)\n",
        "  return LayerNormalization()(sub1 + sub2) #residual connection"
      ],
      "execution_count": null,
      "outputs": []
    },
    {
      "cell_type": "code",
      "metadata": {
        "id": "nCLGpCIXt0pa"
      },
      "source": [
        "def build_encoder_stack_model(): \n",
        "  #input =(in_seq) = (batch, seqLen, features)\n",
        "  #series function\n",
        "  input = tf.keras.Input(shape = (SequenceLength, Features))\n",
        "  x = LayerNormalization()(input)\n",
        "  #x = encode_position(x)\n",
        "    \n",
        "  for i in range(nEncoders):\n",
        "    x = x + build_attention_encoder([x,x,x], dK, dV, nHeads, ffDim) #attempting additional residual connection\n",
        "    \n",
        "  x = Dropout(0.1)(x)\n",
        "  x = Dense(ffDim, activation='relu')(x)\n",
        "  x = Dropout(0.1)(x)\n",
        "  out = Dense(1, activation='sigmoid')(x) \n",
        "\n",
        "  model = tf.keras.Model(inputs=input, outputs=out)\n",
        "  #model.summary()\n",
        "  model.compile(optimizer='Nadam', loss=tf.keras.losses.BinaryCrossentropy(label_smoothing=.1), metrics=[tf.keras.metrics.Precision(), tf.keras.metrics.Recall()])\n",
        "\n",
        "  return model"
      ],
      "execution_count": null,
      "outputs": []
    },
    {
      "cell_type": "markdown",
      "metadata": {
        "id": "NjUTnXddlzP-"
      },
      "source": [
        "#Analysis Functions"
      ]
    },
    {
      "cell_type": "code",
      "metadata": {
        "id": "0k7xR9z6JX10"
      },
      "source": [
        "def make_binary_confusion_matrix(truth, prediction): #assuming shape(none, seqlen, 1) to start\r\n",
        "  tp = 0\r\n",
        "  fp = 0\r\n",
        "  tn = 0\r\n",
        "  fn = 0\r\n",
        "  if truth.shape == prediction.shape:\r\n",
        "    for i in range(truth.shape[0]):\r\n",
        "      for j in range(truth.shape[1]):\r\n",
        "        if truth[i,j,0] == 1 and prediction[i,j,0] >= .5:\r\n",
        "          tp += 1\r\n",
        "        elif truth[i,j,0] == 0 and prediction[i,j,0] >= .5:\r\n",
        "          fp += 1\r\n",
        "        elif truth[i,j,0] == 0 and prediction[i,j,0] < .5:\r\n",
        "          tn += 1\r\n",
        "        elif truth[i,j,0] == 1 and prediction[i,j,0] < .5:\r\n",
        "          fn += 1\r\n",
        "    if tp+fp+tn+fn == truth.shape[0]*truth.shape[1]*truth.shape[2]:\r\n",
        "      print(\"all acounted for\")\r\n",
        "      print(\"in the table: \", tp+fp+tn+fn)\r\n",
        "      print(\"in existence: \", truth.shape[0]*truth.shape[1]*truth.shape[2])\r\n",
        "\r\n",
        "  else:\r\n",
        "    print(\"you fucked up. truth and perdictions aren't the same shape\")\r\n",
        "  \r\n",
        "  print(\"-------------------------\")\r\n",
        "  print(\"--------pred Y---pred N--\")\r\n",
        "  print(\"true Y | \", tp, \" | \", fn)\r\n",
        "  print(\"true N | \", fp, \" | \", tn)\r\n",
        "  print(\"-------------------------\")"
      ],
      "execution_count": null,
      "outputs": []
    },
    {
      "cell_type": "code",
      "metadata": {
        "id": "5qZ83bb01mNf"
      },
      "source": [
        "def visualize(truth, pred, check_length = 10):\r\n",
        "  fig, axs = plt.subplots(1,check_length)\r\n",
        "  fig.suptitle('experiment results')\r\n",
        "  x=range(SequenceLength)\r\n",
        "  for i in range(check_length):\r\n",
        "    axs[i].plot(x, truth[i,:], label=\"signal label\")\r\n",
        "    axs[i].plot(x, pred[i,:], label=\"signal prediction\")\r\n",
        "  \r\n",
        "  return fig"
      ],
      "execution_count": null,
      "outputs": []
    },
    {
      "cell_type": "markdown",
      "metadata": {
        "id": "PGyWPRy-EYTy"
      },
      "source": [
        "#Data Prep"
      ]
    },
    {
      "cell_type": "code",
      "metadata": {
        "id": "bH8BafY3EdIp",
        "colab": {
          "base_uri": "https://localhost:8080/"
        },
        "outputId": "15063614-36fa-494a-fe9f-ebf2bfd54653"
      },
      "source": [
        "from google.colab import drive\n",
        "drive.mount('/content/drive')"
      ],
      "execution_count": null,
      "outputs": [
        {
          "output_type": "stream",
          "text": [
            "Drive already mounted at /content/drive; to attempt to forcibly remount, call drive.mount(\"/content/drive\", force_remount=True).\n"
          ],
          "name": "stdout"
        }
      ]
    },
    {
      "cell_type": "code",
      "metadata": {
        "id": "KSt-5HGVEbc7",
        "colab": {
          "base_uri": "https://localhost:8080/"
        },
        "outputId": "54a6d690-335d-4c4c-95ae-97989028ad0b"
      },
      "source": [
        "pathData = \"/content/drive/My Drive/Colab Notebooks/BCI/prepedbci/dataTrain.npy\" \n",
        "data = np.load(pathData)\n",
        "\n",
        "pathLabel = \"/content/drive/My Drive/Colab Notebooks/BCI/prepedbci/labelTrain.npy\"\n",
        "label = np.load(pathLabel)\n",
        "\n",
        "pathData = \"/content/drive/My Drive/Colab Notebooks/BCI/prepedbci/dataTest.npy\" \n",
        "valD = np.load(pathData)\n",
        "\n",
        "pathLabel = \"/content/drive/My Drive/Colab Notebooks/BCI/prepedbci/labelTest.npy\"\n",
        "valL = np.load(pathLabel)\n",
        "\n",
        "print(data.shape, label.shape, valD.shape, valL.shape)\n",
        "data = encode_position(data)\n",
        "valD = encode_position(valD)\n",
        "\n",
        "#print(dataTrain.shape, labelTrain.shape, dataVal.shape, labelVal.shape)"
      ],
      "execution_count": null,
      "outputs": [
        {
          "output_type": "stream",
          "text": [
            "(41780, 256, 22) (41780, 256, 1) (9560, 256, 22) (9560, 256, 1)\n"
          ],
          "name": "stdout"
        }
      ]
    },
    {
      "cell_type": "code",
      "metadata": {
        "id": "YXTYIBmsEhtU"
      },
      "source": [
        "Generations = 32\n",
        "BatchSize = 128\n",
        "SequenceLength = data.shape[1]\n",
        "#Stride = 23\n",
        "Features = data.shape[-1]\n",
        "dK = 256\n",
        "dV = 256\n",
        "ffDim = 1024\n",
        "nHeads = 6\n",
        "nEncoders = 6\n",
        "\n",
        "config = wandb.config\n",
        "config.epochs = Generations\n",
        "config.batchSize = BatchSize\n",
        "config.seqLen = SequenceLength\n",
        "config.features = Features\n",
        "config.dK = dK\n",
        "config.dV = dV\n",
        "config.ffDim = ffDim\n",
        "config.nHeads = nHeads\n",
        "config.nEncoders = nEncoders"
      ],
      "execution_count": null,
      "outputs": []
    },
    {
      "cell_type": "markdown",
      "metadata": {
        "id": "zdh3a0y9JjGW"
      },
      "source": [
        "#Testing"
      ]
    },
    {
      "cell_type": "code",
      "metadata": {
        "colab": {
          "base_uri": "https://localhost:8080/"
        },
        "id": "h3gVIbJPbWUq",
        "outputId": "d160d209-26b7-4246-d615-002e2d9c2630"
      },
      "source": [
        "model = build_encoder_stack_model()\r\n",
        "model.fit(data, label, batch_size=BatchSize,\r\n",
        "                   epochs=Generations, validation_data = (valD, valL),\r\n",
        "                   verbose=2, callbacks=[WandbCallback()], shuffle=True)\r\n",
        "\r\n",
        "prediction1 = model.predict(valD)\r\n",
        "make_binary_confusion_matrix(valL, prediction1)\r\n",
        "fig1 = visualize(valL, prediction1)\r\n",
        "prediction2 = model.predict(data)\r\n",
        "make_binary_confusion_matrix(label, prediction2)\r\n",
        "fig2 = visualize(label, prediction2)\r\n",
        "\r\n",
        "wandb.log({\"validation prediction\": fig1, \"training prediction\": fig2})"
      ],
      "execution_count": null,
      "outputs": [
        {
          "output_type": "stream",
          "text": [
            "Epoch 1/32\n",
            "327/327 - 306s - loss: 0.6726 - precision: 0.3789 - recall: 0.0190 - val_loss: 0.6694 - val_precision: 0.0000e+00 - val_recall: 0.0000e+00\n",
            "Epoch 2/32\n",
            "327/327 - 289s - loss: 0.6653 - precision: 0.4822 - recall: 0.0019 - val_loss: 0.6792 - val_precision: 0.6000 - val_recall: 1.3158e-05\n",
            "Epoch 3/32\n",
            "327/327 - 288s - loss: 0.6616 - precision: 0.5126 - recall: 0.0213 - val_loss: 0.6707 - val_precision: 0.3642 - val_recall: 0.0030\n",
            "Epoch 4/32\n",
            "327/327 - 289s - loss: 0.6566 - precision: 0.5359 - recall: 0.0710 - val_loss: 0.6742 - val_precision: 0.3180 - val_recall: 0.0120\n",
            "Epoch 5/32\n",
            "327/327 - 288s - loss: 0.6507 - precision: 0.5589 - recall: 0.1278 - val_loss: 0.6809 - val_precision: 0.3460 - val_recall: 0.0314\n",
            "Epoch 6/32\n",
            "327/327 - 289s - loss: 0.6432 - precision: 0.5782 - recall: 0.1864 - val_loss: 0.6854 - val_precision: 0.3455 - val_recall: 0.0498\n",
            "Epoch 7/32\n",
            "327/327 - 289s - loss: 0.6342 - precision: 0.5969 - recall: 0.2510 - val_loss: 0.6860 - val_precision: 0.3672 - val_recall: 0.0877\n",
            "Epoch 8/32\n",
            "327/327 - 289s - loss: 0.6230 - precision: 0.6152 - recall: 0.3163 - val_loss: 0.6986 - val_precision: 0.3613 - val_recall: 0.0791\n",
            "Epoch 9/32\n",
            "327/327 - 288s - loss: 0.6111 - precision: 0.6329 - recall: 0.3726 - val_loss: 0.7162 - val_precision: 0.3592 - val_recall: 0.0909\n",
            "Epoch 10/32\n",
            "327/327 - 288s - loss: 0.6003 - precision: 0.6482 - recall: 0.4168 - val_loss: 0.7092 - val_precision: 0.3669 - val_recall: 0.1369\n",
            "Epoch 11/32\n",
            "327/327 - 288s - loss: 0.5894 - precision: 0.6627 - recall: 0.4550 - val_loss: 0.7222 - val_precision: 0.3665 - val_recall: 0.1818\n",
            "Epoch 12/32\n",
            "327/327 - 288s - loss: 0.5804 - precision: 0.6734 - recall: 0.4839 - val_loss: 0.7393 - val_precision: 0.3681 - val_recall: 0.1572\n",
            "Epoch 13/32\n",
            "327/327 - 288s - loss: 0.5710 - precision: 0.6847 - recall: 0.5107 - val_loss: 0.7532 - val_precision: 0.3696 - val_recall: 0.1550\n",
            "Epoch 14/32\n",
            "327/327 - 288s - loss: 0.5621 - precision: 0.6944 - recall: 0.5360 - val_loss: 0.7446 - val_precision: 0.3728 - val_recall: 0.1925\n",
            "Epoch 15/32\n",
            "327/327 - 289s - loss: 0.5533 - precision: 0.7024 - recall: 0.5593 - val_loss: 0.7695 - val_precision: 0.3684 - val_recall: 0.1481\n",
            "Epoch 16/32\n",
            "327/327 - 288s - loss: 0.5448 - precision: 0.7108 - recall: 0.5792 - val_loss: 0.7778 - val_precision: 0.3666 - val_recall: 0.1801\n",
            "Epoch 17/32\n",
            "327/327 - 288s - loss: 0.5368 - precision: 0.7182 - recall: 0.5981 - val_loss: 0.7955 - val_precision: 0.3749 - val_recall: 0.2988\n",
            "Epoch 18/32\n",
            "327/327 - 288s - loss: 0.5297 - precision: 0.7244 - recall: 0.6136 - val_loss: 0.7873 - val_precision: 0.3712 - val_recall: 0.2176\n",
            "Epoch 19/32\n",
            "327/327 - 289s - loss: 0.5239 - precision: 0.7300 - recall: 0.6245 - val_loss: 0.8115 - val_precision: 0.3720 - val_recall: 0.2220\n",
            "Epoch 20/32\n",
            "327/327 - 288s - loss: 0.5172 - precision: 0.7360 - recall: 0.6381 - val_loss: 0.7985 - val_precision: 0.3660 - val_recall: 0.1787\n",
            "Epoch 21/32\n",
            "327/327 - 289s - loss: 0.5116 - precision: 0.7410 - recall: 0.6495 - val_loss: 0.8051 - val_precision: 0.3716 - val_recall: 0.2196\n",
            "Epoch 22/32\n",
            "327/327 - 288s - loss: 0.5066 - precision: 0.7454 - recall: 0.6584 - val_loss: 0.8184 - val_precision: 0.3702 - val_recall: 0.2531\n",
            "Epoch 23/32\n",
            "327/327 - 288s - loss: 0.5021 - precision: 0.7492 - recall: 0.6674 - val_loss: 0.8340 - val_precision: 0.3687 - val_recall: 0.2200\n",
            "Epoch 24/32\n",
            "327/327 - 288s - loss: 0.4971 - precision: 0.7543 - recall: 0.6749 - val_loss: 0.8132 - val_precision: 0.3689 - val_recall: 0.3102\n",
            "Epoch 25/32\n",
            "327/327 - 288s - loss: 0.4929 - precision: 0.7578 - recall: 0.6827 - val_loss: 0.8229 - val_precision: 0.3748 - val_recall: 0.2366\n",
            "Epoch 26/32\n",
            "327/327 - 288s - loss: 0.4894 - precision: 0.7609 - recall: 0.6886 - val_loss: 0.8310 - val_precision: 0.3727 - val_recall: 0.1904\n",
            "Epoch 27/32\n",
            "327/327 - 288s - loss: 0.4850 - precision: 0.7649 - recall: 0.6961 - val_loss: 0.8399 - val_precision: 0.3777 - val_recall: 0.2127\n",
            "Epoch 28/32\n",
            "327/327 - 288s - loss: 0.4824 - precision: 0.7672 - recall: 0.6999 - val_loss: 0.8495 - val_precision: 0.3748 - val_recall: 0.2126\n",
            "Epoch 29/32\n",
            "327/327 - 288s - loss: 0.4785 - precision: 0.7704 - recall: 0.7061 - val_loss: 0.8328 - val_precision: 0.3743 - val_recall: 0.2794\n",
            "Epoch 30/32\n",
            "327/327 - 287s - loss: 0.4755 - precision: 0.7733 - recall: 0.7102 - val_loss: 0.8515 - val_precision: 0.3734 - val_recall: 0.2575\n",
            "Epoch 31/32\n",
            "327/327 - 288s - loss: 0.4728 - precision: 0.7756 - recall: 0.7143 - val_loss: 0.8683 - val_precision: 0.3746 - val_recall: 0.1953\n",
            "Epoch 32/32\n",
            "327/327 - 287s - loss: 0.4695 - precision: 0.7787 - recall: 0.7191 - val_loss: 0.8416 - val_precision: 0.3792 - val_recall: 0.2089\n",
            "all acounted for\n",
            "in the table:  2447360\n",
            "in existence:  2447360\n",
            "-------------------------\n",
            "--------pred Y---pred N--\n",
            "true Y |  190516  |  721484\n",
            "true N |  311933  |  1223427\n",
            "-------------------------\n",
            "all acounted for\n",
            "in the table:  10695680\n",
            "in existence:  10695680\n",
            "-------------------------\n",
            "--------pred Y---pred N--\n",
            "true Y |  3004242  |  968898\n",
            "true N |  739598  |  5982942\n",
            "-------------------------\n"
          ],
          "name": "stdout"
        }
      ]
    },
    {
      "cell_type": "markdown",
      "metadata": {
        "id": "vmehDw54n4JN"
      },
      "source": [
        "Note:: all signals have an start and stop and always in a pair, so if able to identify those then could just fill inbetween with on state. if previous is off then only look for on, and if previous is on then only look for off. would be invarient to signal length\r\n",
        "\r\n",
        "Note:: possibly make a decicive function that makes predictions either 1 or 0 "
      ]
    }
  ]
}